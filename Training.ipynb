{
 "cells": [
  {
   "cell_type": "code",
   "execution_count": 1,
   "metadata": {},
   "outputs": [
    {
     "name": "stderr",
     "output_type": "stream",
     "text": [
      "Using TensorFlow backend.\n",
      "C:\\Users\\Devashi Jain\\DMG\\lib\\site-packages\\tensorflow\\python\\framework\\dtypes.py:526: FutureWarning: Passing (type, 1) or '1type' as a synonym of type is deprecated; in a future version of numpy, it will be understood as (type, (1,)) / '(1,)type'.\n",
      "  _np_qint8 = np.dtype([(\"qint8\", np.int8, 1)])\n",
      "C:\\Users\\Devashi Jain\\DMG\\lib\\site-packages\\tensorflow\\python\\framework\\dtypes.py:527: FutureWarning: Passing (type, 1) or '1type' as a synonym of type is deprecated; in a future version of numpy, it will be understood as (type, (1,)) / '(1,)type'.\n",
      "  _np_quint8 = np.dtype([(\"quint8\", np.uint8, 1)])\n",
      "C:\\Users\\Devashi Jain\\DMG\\lib\\site-packages\\tensorflow\\python\\framework\\dtypes.py:528: FutureWarning: Passing (type, 1) or '1type' as a synonym of type is deprecated; in a future version of numpy, it will be understood as (type, (1,)) / '(1,)type'.\n",
      "  _np_qint16 = np.dtype([(\"qint16\", np.int16, 1)])\n",
      "C:\\Users\\Devashi Jain\\DMG\\lib\\site-packages\\tensorflow\\python\\framework\\dtypes.py:529: FutureWarning: Passing (type, 1) or '1type' as a synonym of type is deprecated; in a future version of numpy, it will be understood as (type, (1,)) / '(1,)type'.\n",
      "  _np_quint16 = np.dtype([(\"quint16\", np.uint16, 1)])\n",
      "C:\\Users\\Devashi Jain\\DMG\\lib\\site-packages\\tensorflow\\python\\framework\\dtypes.py:530: FutureWarning: Passing (type, 1) or '1type' as a synonym of type is deprecated; in a future version of numpy, it will be understood as (type, (1,)) / '(1,)type'.\n",
      "  _np_qint32 = np.dtype([(\"qint32\", np.int32, 1)])\n",
      "C:\\Users\\Devashi Jain\\DMG\\lib\\site-packages\\tensorflow\\python\\framework\\dtypes.py:535: FutureWarning: Passing (type, 1) or '1type' as a synonym of type is deprecated; in a future version of numpy, it will be understood as (type, (1,)) / '(1,)type'.\n",
      "  np_resource = np.dtype([(\"resource\", np.ubyte, 1)])\n"
     ]
    }
   ],
   "source": [
    "from keras.models import load_model\n",
    "import numpy as np\n",
    "import cv2 as cv\n",
    "import keras\n",
    "from keras.models import Sequential\n",
    "from keras.layers import Dense, Dropout, Flatten\n",
    "from keras.layers.convolutional import Conv2D, MaxPooling2D, activations\n",
    "from keras.utils import np_utils\n",
    "from keras import backend as K\n",
    "K.set_image_dim_ordering('th')\n",
    "import numpy as np\n",
    "import pandas as pd\n",
    "from sklearn.model_selection import train_test_split, GridSearchCV\n",
    "from sklearn.metrics import accuracy_score, confusion_matrix, roc_curve, roc_auc_score\n",
    "import os\n",
    "from imutils import paths\n",
    "import glob"
   ]
  },
  {
   "cell_type": "code",
   "execution_count": 2,
   "metadata": {},
   "outputs": [],
   "source": [
    "Data = np.load('Data.npy')\n",
    "Label = pd.read_csv('Label.csv')\n",
    "classes = pd.read_csv('Class.csv')"
   ]
  },
  {
   "cell_type": "code",
   "execution_count": 3,
   "metadata": {},
   "outputs": [
    {
     "data": {
      "text/plain": [
       "(2217, 256, 256, 3)"
      ]
     },
     "execution_count": 3,
     "metadata": {},
     "output_type": "execute_result"
    }
   ],
   "source": [
    "Data.shape"
   ]
  },
  {
   "cell_type": "code",
   "execution_count": 4,
   "metadata": {},
   "outputs": [
    {
     "data": {
      "text/plain": [
       "(2217, 1)"
      ]
     },
     "execution_count": 4,
     "metadata": {},
     "output_type": "execute_result"
    }
   ],
   "source": [
    "Label.shape"
   ]
  },
  {
   "cell_type": "code",
   "execution_count": 5,
   "metadata": {},
   "outputs": [
    {
     "name": "stdout",
     "output_type": "stream",
     "text": [
      "(2217, 1)\n"
     ]
    }
   ],
   "source": [
    "print(classes.shape)"
   ]
  },
  {
   "cell_type": "code",
   "execution_count": 6,
   "metadata": {},
   "outputs": [],
   "source": [
    "X_train, X_test, y_train, y_test = train_test_split(Data/255.,classes,test_size=0.1,random_state=0)"
   ]
  },
  {
   "cell_type": "code",
   "execution_count": 7,
   "metadata": {},
   "outputs": [],
   "source": [
    "y_train_cnn = np_utils.to_categorical(y_train)\n",
    "y_test_cnn = np_utils.to_categorical(y_test)\n",
    "num_classes = y_test_cnn.shape[1]"
   ]
  },
  {
   "cell_type": "code",
   "execution_count": 8,
   "metadata": {},
   "outputs": [],
   "source": [
    "X_train_cnn = X_train.reshape(X_train.shape[0], 3, 256, 256).astype('float32')\n",
    "X_test_cnn = X_test.reshape(X_test.shape[0], 3, 256, 256).astype('float32')"
   ]
  },
  {
   "cell_type": "code",
   "execution_count": 9,
   "metadata": {},
   "outputs": [
    {
     "data": {
      "text/plain": [
       "(1995, 3, 256, 256)"
      ]
     },
     "execution_count": 9,
     "metadata": {},
     "output_type": "execute_result"
    }
   ],
   "source": [
    "X_train_cnn.shape"
   ]
  },
  {
   "cell_type": "code",
   "execution_count": 10,
   "metadata": {},
   "outputs": [
    {
     "data": {
      "text/plain": [
       "(222, 3, 256, 256)"
      ]
     },
     "execution_count": 10,
     "metadata": {},
     "output_type": "execute_result"
    }
   ],
   "source": [
    "X_test_cnn.shape"
   ]
  },
  {
   "cell_type": "code",
   "execution_count": 11,
   "metadata": {},
   "outputs": [],
   "source": [
    "def cnn_model():\n",
    "    model = Sequential() # our defined model functions in some sort of sequence, we use the Sequential class to initialize our model before adding the layers\n",
    "\n",
    "    # Here's how you add layers to your model\n",
    "    # Conv1 32 32 (3) => 30 30 (32)\n",
    "    model.add(Conv2D(32, (3, 3), input_shape=(3, 256, 256), activation = 'relu')) # in layer 1 you need to specify input shape this is not needed in subsequent layers\n",
    "    \n",
    "    # Conv2 30 30 (32) => 28 28 (32)\n",
    "    model.add(Conv2D(32, (3, 3), activation = 'relu'))\n",
    "    \n",
    "    # Pool1 28 28 (32) => 14 14 (32)\n",
    "    model.add(MaxPooling2D(pool_size=(2, 2))) # the CONV CONV POOL structure is popularized in during ImageNet 2014\n",
    "    model.add(Dropout(0.25)) # this thing called dropout is used to prevent overfitting\n",
    "\n",
    "    # Conv3 14 14 (32) => 12 12 (64)\n",
    "    model.add(Conv2D(64, (3, 3), activation = 'relu'))\n",
    "    \n",
    "    # Conv4 12 12 (64) => 6 6 (64)\n",
    "    model.add(Conv2D(64, (3, 3), activation = 'relu'))\n",
    "    \n",
    "    # Pool2 6 6 (64) => 3 3 (64)\n",
    "    model.add(MaxPooling2D(pool_size=(2, 2)))\n",
    "    model.add(Dropout(0.25))\n",
    "\n",
    "    # FC layers 3 3 (64) => 576\n",
    "    model.add(Flatten()) # to turn input into a 1 dimensional array\n",
    "    # Dense1 576 => 256\n",
    "   \n",
    "    \n",
    "    model.add(Dropout(0.5))\n",
    "    # Dense2 256 => 10\n",
    "    model.add(Dense(4, activation= 'softmax'))\n",
    "    \n",
    "    optimizer = keras.optimizers.Adam()\n",
    "    model.compile(loss='categorical_crossentropy',\n",
    "              optimizer=optimizer,\n",
    "              metrics=['accuracy'])\n",
    "    return model"
   ]
  },
  {
   "cell_type": "code",
   "execution_count": 12,
   "metadata": {},
   "outputs": [
    {
     "name": "stdout",
     "output_type": "stream",
     "text": [
      "[INFO] creating model...\n",
      "WARNING:tensorflow:From C:\\Users\\Devashi Jain\\DMG\\lib\\site-packages\\tensorflow\\python\\framework\\op_def_library.py:263: colocate_with (from tensorflow.python.framework.ops) is deprecated and will be removed in a future version.\n",
      "Instructions for updating:\n",
      "Colocations handled automatically by placer.\n",
      "WARNING:tensorflow:From C:\\Users\\Devashi Jain\\DMG\\lib\\site-packages\\keras\\backend\\tensorflow_backend.py:3445: calling dropout (from tensorflow.python.ops.nn_ops) with keep_prob is deprecated and will be removed in a future version.\n",
      "Instructions for updating:\n",
      "Please use `rate` instead of `keep_prob`. Rate should be set to `rate = 1 - keep_prob`.\n",
      "[INFO] training model...\n",
      "WARNING:tensorflow:From C:\\Users\\Devashi Jain\\DMG\\lib\\site-packages\\tensorflow\\python\\ops\\math_ops.py:3066: to_int32 (from tensorflow.python.ops.math_ops) is deprecated and will be removed in a future version.\n",
      "Instructions for updating:\n",
      "Use tf.cast instead.\n",
      "Train on 1795 samples, validate on 200 samples\n",
      "Epoch 1/25\n",
      "1795/1795 [==============================] - 556s 309ms/step - loss: 1.2583 - acc: 0.4930 - val_loss: 0.7358 - val_acc: 0.7450\n",
      "Epoch 2/25\n",
      "1795/1795 [==============================] - 582s 324ms/step - loss: 0.5910 - acc: 0.7967 - val_loss: 0.7605 - val_acc: 0.7650\n",
      "Epoch 3/25\n",
      "1795/1795 [==============================] - 581s 324ms/step - loss: 0.4204 - acc: 0.8591 - val_loss: 0.4412 - val_acc: 0.8650\n",
      "Epoch 4/25\n",
      "1795/1795 [==============================] - 554s 309ms/step - loss: 0.3028 - acc: 0.8953 - val_loss: 0.4496 - val_acc: 0.8450\n",
      "Epoch 5/25\n",
      "1795/1795 [==============================] - 554s 309ms/step - loss: 0.2433 - acc: 0.9175 - val_loss: 0.5467 - val_acc: 0.8550\n",
      "Epoch 6/25\n",
      "1795/1795 [==============================] - 597s 333ms/step - loss: 0.1919 - acc: 0.9409 - val_loss: 0.4040 - val_acc: 0.8950\n",
      "Epoch 7/25\n",
      "1795/1795 [==============================] - 553s 308ms/step - loss: 0.1582 - acc: 0.9465 - val_loss: 0.4474 - val_acc: 0.9000\n",
      "Epoch 8/25\n",
      "1795/1795 [==============================] - 559s 311ms/step - loss: 0.1140 - acc: 0.9677 - val_loss: 0.2912 - val_acc: 0.9000\n",
      "Epoch 9/25\n",
      "1795/1795 [==============================] - 806s 449ms/step - loss: 0.1098 - acc: 0.9671 - val_loss: 0.3360 - val_acc: 0.8800\n",
      "Epoch 10/25\n",
      "1795/1795 [==============================] - 819s 456ms/step - loss: 0.1227 - acc: 0.9621 - val_loss: 0.2611 - val_acc: 0.9350\n",
      "Epoch 11/25\n",
      "1795/1795 [==============================] - 791s 441ms/step - loss: 0.0610 - acc: 0.9766 - val_loss: 0.4292 - val_acc: 0.8850\n",
      "Epoch 12/25\n",
      "1795/1795 [==============================] - 787s 439ms/step - loss: 0.0571 - acc: 0.9838 - val_loss: 0.3761 - val_acc: 0.9000\n",
      "Epoch 13/25\n",
      "1795/1795 [==============================] - 737s 410ms/step - loss: 0.0697 - acc: 0.9772 - val_loss: 0.2956 - val_acc: 0.9200\n",
      "Epoch 14/25\n",
      "1795/1795 [==============================] - 679s 378ms/step - loss: 0.0254 - acc: 0.9905 - val_loss: 0.4792 - val_acc: 0.8850\n",
      "Epoch 15/25\n",
      "1795/1795 [==============================] - 874s 487ms/step - loss: 0.0494 - acc: 0.9838 - val_loss: 0.3567 - val_acc: 0.9000\n",
      "Epoch 16/25\n",
      "1795/1795 [==============================] - 1127s 628ms/step - loss: 0.0192 - acc: 0.9944 - val_loss: 0.4182 - val_acc: 0.9250\n",
      "Epoch 17/25\n",
      "1795/1795 [==============================] - 921s 513ms/step - loss: 0.0223 - acc: 0.9905 - val_loss: 0.3359 - val_acc: 0.9300\n",
      "Epoch 18/25\n",
      "1795/1795 [==============================] - 746s 416ms/step - loss: 0.0056 - acc: 0.9983 - val_loss: 0.4541 - val_acc: 0.9200\n",
      "Epoch 19/25\n",
      "1795/1795 [==============================] - 746s 416ms/step - loss: 0.0548 - acc: 0.9850 - val_loss: 0.5147 - val_acc: 0.9050\n",
      "Epoch 20/25\n",
      "1795/1795 [==============================] - 650s 362ms/step - loss: 0.0400 - acc: 0.9877 - val_loss: 0.4978 - val_acc: 0.8600\n",
      "Epoch 21/25\n",
      "1795/1795 [==============================] - 855s 476ms/step - loss: 0.0815 - acc: 0.9755 - val_loss: 0.4793 - val_acc: 0.8900\n",
      "Epoch 22/25\n",
      "1795/1795 [==============================] - 797s 444ms/step - loss: 0.0251 - acc: 0.9889 - val_loss: 0.3800 - val_acc: 0.9050\n",
      "Epoch 23/25\n",
      "1795/1795 [==============================] - 589s 328ms/step - loss: 0.0348 - acc: 0.9894 - val_loss: 0.3176 - val_acc: 0.9150\n",
      "Epoch 24/25\n",
      "1795/1795 [==============================] - 561s 313ms/step - loss: 0.0129 - acc: 0.9950 - val_loss: 0.5510 - val_acc: 0.8900\n",
      "Epoch 25/25\n",
      "1795/1795 [==============================] - 530s 295ms/step - loss: 0.0077 - acc: 0.9978 - val_loss: 0.5044 - val_acc: 0.9050\n",
      "[INFO] evaluating model...\n",
      "Final CNN accuracy:  0.9234234202015508\n"
     ]
    }
   ],
   "source": [
    "print(\"[INFO] creating model...\")\n",
    "model = cnn_model()\n",
    "# Fit the model\n",
    "print(\"[INFO] training model...\")\n",
    "records = model.fit(X_train_cnn, y_train_cnn, validation_split=0.1, epochs=25, batch_size=16)\n",
    "# Final evaluation of the model\n",
    "print(\"[INFO] evaluating model...\")\n",
    "scores = model.evaluate(X_test_cnn, y_test_cnn, verbose=0)\n",
    "print('Final CNN accuracy: ', scores[1])"
   ]
  },
  {
   "cell_type": "code",
   "execution_count": 13,
   "metadata": {},
   "outputs": [
    {
     "name": "stdout",
     "output_type": "stream",
     "text": [
      "[INFO] saving model...\n"
     ]
    }
   ],
   "source": [
    "print(\"[INFO] saving model...\")\n",
    "model.save(\"model3.h5\")"
   ]
  },
  {
   "cell_type": "code",
   "execution_count": 15,
   "metadata": {},
   "outputs": [
    {
     "name": "stderr",
     "output_type": "stream",
     "text": [
      "C:\\Users\\Devashi Jain\\DMG\\lib\\site-packages\\matplotlib\\axes\\_axes.py:6571: UserWarning: The 'normed' kwarg is deprecated, and has been replaced by the 'density' kwarg.\n",
      "  warnings.warn(\"The 'normed' kwarg is deprecated, and has been \"\n"
     ]
    },
    {
     "data": {
      "image/png": "[encoded data removed]",
      "text/plain": [
       "<Figure size 432x288 with 1 Axes>"
      ]
     },
     "metadata": {
      "needs_background": "light"
     },
     "output_type": "display_data"
    }
   ],
   "source": [
    "import matplotlib.pyplot as plt\n",
    "cnn_probab = model.predict(X_test_cnn, batch_size=32, verbose=0)\n",
    "\n",
    "# extract the probability for the label that was predicted:\n",
    "p_max = np.amax(cnn_probab, axis=1)\n",
    "\n",
    "plt.hist(p_max, normed=True, bins=list(np.linspace(0,1,11)));\n",
    "plt.xlabel('p of predicted class');"
   ]
  },
  {
   "cell_type": "code",
   "execution_count": 17,
   "metadata": {},
   "outputs": [
    {
     "data": {
      "text/plain": [
       "<matplotlib.legend.Legend at 0x1ffff5f79e8>"
      ]
     },
     "execution_count": 17,
     "metadata": {},
     "output_type": "execute_result"
    },
    {
     "data": {
      "image/png": "[encoded data removed]",
      "text/plain": [
       "<Figure size 432x288 with 1 Axes>"
      ]
     },
     "metadata": {},
     "output_type": "display_data"
    }
   ],
   "source": [
    "N = 25\n",
    "plt.style.use(\"ggplot\")\n",
    "plt.figure()\n",
    "plt.plot(np.arange(0, N), records.history[\"loss\"], label=\"train_loss\")\n",
    "plt.plot(np.arange(0, N), records.history[\"val_loss\"], label=\"val_loss\")\n",
    "plt.plot(np.arange(0, N), records.history[\"acc\"], label=\"train_acc\")\n",
    "plt.plot(np.arange(0, N), records.history[\"val_acc\"], label=\"val_acc\")\n",
    "plt.title(\"Training Loss and Accuracy\")\n",
    "plt.xlabel(\"Epoch #\")\n",
    "plt.ylabel(\"Loss/Accuracy\")\n",
    "plt.legend(loc=\"lower left\")"
   ]
  },
  {
   "cell_type": "code",
   "execution_count": null,
   "metadata": {},
   "outputs": [],
   "source": []
  }
 ],
 "metadata": {
  "kernelspec": {
   "display_name": "Python 3",
   "language": "python",
   "name": "python3"
  },
  "language_info": {
   "codemirror_mode": {
    "name": "ipython",
    "version": 3
   },
   "file_extension": ".py",
   "mimetype": "text/x-python",
   "name": "python",
   "nbconvert_exporter": "python",
   "pygments_lexer": "ipython3",
   "version": "3.7.0"
  }
 },
 "nbformat": 4,
 "nbformat_minor": 2
}
